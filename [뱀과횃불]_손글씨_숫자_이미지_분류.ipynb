{
  "nbformat": 4,
  "nbformat_minor": 0,
  "metadata": {
    "colab": {
      "provenance": [],
      "gpuType": "T4",
      "include_colab_link": true
    },
    "kernelspec": {
      "name": "python3",
      "display_name": "Python 3"
    },
    "language_info": {
      "name": "python"
    },
    "accelerator": "GPU"
  },
  "cells": [
    {
      "cell_type": "markdown",
      "metadata": {
        "id": "view-in-github",
        "colab_type": "text"
      },
      "source": [
        "<a href=\"https://colab.research.google.com/github/freud-sensei/imfine_torch/blob/main/%5B%EB%B1%80%EA%B3%BC%ED%9A%83%EB%B6%88%5D_%EC%86%90%EA%B8%80%EC%94%A8_%EC%88%AB%EC%9E%90_%EC%9D%B4%EB%AF%B8%EC%A7%80_%EB%B6%84%EB%A5%98.ipynb\" target=\"_parent\"><img src=\"https://colab.research.google.com/assets/colab-badge.svg\" alt=\"Open In Colab\"/></a>"
      ]
    },
    {
      "cell_type": "markdown",
      "source": [
        "# 모듈 및 분석환경 설정"
      ],
      "metadata": {
        "id": "d9JIKQszlcl3"
      }
    },
    {
      "cell_type": "markdown",
      "source": [
        "## 모듈 불러오기"
      ],
      "metadata": {
        "id": "yV1cBm_9koTf"
      }
    },
    {
      "cell_type": "code",
      "execution_count": null,
      "metadata": {
        "id": "sPiXWTbwj1ml"
      },
      "outputs": [],
      "source": [
        "import torch\n",
        "import torch.nn as nn # 네트워크의 구성요소\n",
        "import torch.nn.functional as F # 각종 함수\n",
        "import torch.optim as optim # 최적화 알고리즘\n",
        "from torchvision import datasets, transforms # 이미지 데이터셋 및 변환 기술\n",
        "import matplotlib.pyplot as plt # 이건 뭔지 알죠?"
      ]
    },
    {
      "cell_type": "markdown",
      "source": [
        "## 분석 환경 설정"
      ],
      "metadata": {
        "id": "P0e-vclnlX0h"
      }
    },
    {
      "cell_type": "code",
      "source": [
        "is_cuda = torch.cuda.is_available()\n",
        "device = torch.device('cuda' if is_cuda else 'cpu')\n",
        "print('Current cuda device is', device)"
      ],
      "metadata": {
        "colab": {
          "base_uri": "https://localhost:8080/"
        },
        "id": "4vGqBdyklnQZ",
        "outputId": "dec899b7-311a-465d-aa28-55b658ec869f"
      },
      "execution_count": null,
      "outputs": [
        {
          "output_type": "stream",
          "name": "stdout",
          "text": [
            "Current cuda device is cuda\n"
          ]
        }
      ]
    },
    {
      "cell_type": "markdown",
      "source": [
        "## Hyperparameter 지정"
      ],
      "metadata": {
        "id": "oXZs4JuQl38j"
      }
    },
    {
      "cell_type": "code",
      "source": [
        "batch_size = 50 # 미니배치 사이즈: 가중치를 1번 업데이트시킬 때 사용하는 샘플 수\n",
        "epoch_num = 15 # Epoch 수: 학습데이터를 모두 사용하여 학습하는 기본 단위 수\n",
        "learning_rate = 0.0001 # 학습률: 가중치 업데이트 정도"
      ],
      "metadata": {
        "id": "k5gkfPoNl7Dy"
      },
      "execution_count": null,
      "outputs": []
    },
    {
      "cell_type": "markdown",
      "source": [
        "# 데이터 불러오기"
      ],
      "metadata": {
        "id": "K8lTfz01m21k"
      }
    },
    {
      "cell_type": "markdown",
      "source": [
        "## MNIST 데이터 불러오기"
      ],
      "metadata": {
        "id": "4mSpRbq8m5Ji"
      }
    },
    {
      "cell_type": "code",
      "source": [
        "train_data = datasets.MNIST(root='./data', train=True, download=True, transform=transforms.ToTensor())\n",
        "test_data = datasets.MNIST(root='./data', train=False, transform=transforms.ToTensor())\n",
        "print(len(train_data), len(test_data))"
      ],
      "metadata": {
        "colab": {
          "base_uri": "https://localhost:8080/"
        },
        "id": "4b8rGkbgnFfA",
        "outputId": "8e080352-9734-4fef-ed4b-3319bbb7568d"
      },
      "execution_count": null,
      "outputs": [
        {
          "output_type": "stream",
          "name": "stdout",
          "text": [
            "Downloading http://yann.lecun.com/exdb/mnist/train-images-idx3-ubyte.gz\n",
            "Downloading http://yann.lecun.com/exdb/mnist/train-images-idx3-ubyte.gz to ./data/MNIST/raw/train-images-idx3-ubyte.gz\n"
          ]
        },
        {
          "output_type": "stream",
          "name": "stderr",
          "text": [
            "100%|██████████| 9912422/9912422 [00:00<00:00, 240860834.61it/s]"
          ]
        },
        {
          "output_type": "stream",
          "name": "stdout",
          "text": [
            "Extracting ./data/MNIST/raw/train-images-idx3-ubyte.gz to ./data/MNIST/raw\n"
          ]
        },
        {
          "output_type": "stream",
          "name": "stderr",
          "text": [
            "\n"
          ]
        },
        {
          "output_type": "stream",
          "name": "stdout",
          "text": [
            "\n",
            "Downloading http://yann.lecun.com/exdb/mnist/train-labels-idx1-ubyte.gz\n",
            "Downloading http://yann.lecun.com/exdb/mnist/train-labels-idx1-ubyte.gz to ./data/MNIST/raw/train-labels-idx1-ubyte.gz\n"
          ]
        },
        {
          "output_type": "stream",
          "name": "stderr",
          "text": [
            "100%|██████████| 28881/28881 [00:00<00:00, 25950234.32it/s]\n"
          ]
        },
        {
          "output_type": "stream",
          "name": "stdout",
          "text": [
            "Extracting ./data/MNIST/raw/train-labels-idx1-ubyte.gz to ./data/MNIST/raw\n",
            "\n",
            "Downloading http://yann.lecun.com/exdb/mnist/t10k-images-idx3-ubyte.gz\n",
            "Downloading http://yann.lecun.com/exdb/mnist/t10k-images-idx3-ubyte.gz to ./data/MNIST/raw/t10k-images-idx3-ubyte.gz\n"
          ]
        },
        {
          "output_type": "stream",
          "name": "stderr",
          "text": [
            "100%|██████████| 1648877/1648877 [00:00<00:00, 86840510.26it/s]"
          ]
        },
        {
          "output_type": "stream",
          "name": "stdout",
          "text": [
            "Extracting ./data/MNIST/raw/t10k-images-idx3-ubyte.gz to ./data/MNIST/raw\n",
            "\n",
            "Downloading http://yann.lecun.com/exdb/mnist/t10k-labels-idx1-ubyte.gz\n"
          ]
        },
        {
          "output_type": "stream",
          "name": "stderr",
          "text": [
            "\n"
          ]
        },
        {
          "output_type": "stream",
          "name": "stdout",
          "text": [
            "Downloading http://yann.lecun.com/exdb/mnist/t10k-labels-idx1-ubyte.gz to ./data/MNIST/raw/t10k-labels-idx1-ubyte.gz\n"
          ]
        },
        {
          "output_type": "stream",
          "name": "stderr",
          "text": [
            "100%|██████████| 4542/4542 [00:00<00:00, 7450343.67it/s]\n"
          ]
        },
        {
          "output_type": "stream",
          "name": "stdout",
          "text": [
            "Extracting ./data/MNIST/raw/t10k-labels-idx1-ubyte.gz to ./data/MNIST/raw\n",
            "\n",
            "60000 10000\n"
          ]
        }
      ]
    },
    {
      "cell_type": "markdown",
      "source": [
        "## MNIST 데이터 확인하기"
      ],
      "metadata": {
        "id": "yeoE4hnbnp5J"
      }
    },
    {
      "cell_type": "code",
      "source": [
        "image, label = train_data[0]\n",
        "plt.imshow(image.squeeze().numpy(), cmap='gray') # squeeze: 길이가 1인 차원을 모두 없앤다. [1, 28, 28] -> [28, 28]\n",
        "plt.show()"
      ],
      "metadata": {
        "colab": {
          "base_uri": "https://localhost:8080/",
          "height": 430
        },
        "id": "MzA07wu5ntZJ",
        "outputId": "1b8fa0ce-f6e6-4096-f2d3-e10547d28be8"
      },
      "execution_count": null,
      "outputs": [
        {
          "output_type": "display_data",
          "data": {
            "text/plain": [
              "<Figure size 640x480 with 1 Axes>"
            ],
            "image/png": "[encoded data removed]"
          },
          "metadata": {}
        }
      ]
    },
    {
      "cell_type": "markdown",
      "source": [
        "## 미니배치 구성하기"
      ],
      "metadata": {
        "id": "1Z_TTtc9oTD1"
      }
    },
    {
      "cell_type": "code",
      "source": [
        "train_loader = torch.utils.data.DataLoader(dataset=train_data, batch_size=batch_size, shuffle=True)\n",
        "test_loader = torch.utils.data.DataLoader(dataset=test_data, batch_size=batch_size, shuffle=True)\n",
        "# 시계열 데이터가 아닌 이상, 데이터의 순서에 대해서 학습하지 못하게 섞어 주는 것이 기본\n",
        "\n",
        "first_batch = train_loader.__iter__().__next__()\n",
        "print(len(train_loader)) # 1200: 60000(학습 데이터) / 50(batch size) = 1200\n",
        "print(str(type(first_batch)), len(first_batch))\n",
        "print(str(type(first_batch[0])), first_batch[0].shape) # [batch size, channel, width, height]\n",
        "print(str(type(first_batch[1])), first_batch[1].shape)"
      ],
      "metadata": {
        "colab": {
          "base_uri": "https://localhost:8080/"
        },
        "id": "1I3UZJ9foWG9",
        "outputId": "fd012601-994c-4193-fc6d-643f30bb4702"
      },
      "execution_count": null,
      "outputs": [
        {
          "output_type": "stream",
          "name": "stdout",
          "text": [
            "1200\n",
            "<class 'list'> 2\n",
            "<class 'torch.Tensor'> torch.Size([50, 1, 28, 28])\n",
            "<class 'torch.Tensor'> torch.Size([50])\n"
          ]
        }
      ]
    },
    {
      "cell_type": "markdown",
      "source": [
        "# CNN 모델 학습"
      ],
      "metadata": {
        "id": "G55O4x0kpY5k"
      }
    },
    {
      "cell_type": "markdown",
      "source": [
        "## CNN 구조 설계하기"
      ],
      "metadata": {
        "id": "uNi15N9_sSij"
      }
    },
    {
      "cell_type": "code",
      "source": [
        "class CNN(nn.Module):\n",
        "  def __init__(self):\n",
        "    super().__init__()\n",
        "    self.conv1 = nn.Conv2d(1, 32, 3, 1) # in_chanels(필터의 depth), out_channels(필터의 수), kernel(필터의 크기), stride\n",
        "    self.conv2 = nn.Conv2d(32, 64, 3, 1)\n",
        "    self.dropout1 = nn.Dropout(0.25) # 0.25 확률의 dropout\n",
        "    self.dropout2 = nn.Dropout2d(0.5)\n",
        "    self.fc1 = nn.Linear(9216, 128)\n",
        "    self.fc2 = nn.Linear(128, 10)\n",
        "\n",
        "  def forward(self, x):\n",
        "    x = self.conv1(x)\n",
        "    x = F.relu(x)\n",
        "    x = self.conv2(x)\n",
        "    x = F.relu(x)\n",
        "    x = F.max_pool2d(x, 2) # pooling은 단순 연산, 학습가중치가 없음\n",
        "    x = self.dropout1(x)\n",
        "    x = torch.flatten(x, 1) # 1차원 텐서로 변환. 이 경우 dim 0만 유지, dim 1~-1까진 flatten\n",
        "    x = self.fc1(x)\n",
        "    x = F.relu(x)\n",
        "    x = self.dropout2(x)\n",
        "    x = self.fc2(x)\n",
        "    output = F.log_softmax(x, dim=1)\n",
        "    return output"
      ],
      "metadata": {
        "id": "5Oon8LuPsUQY"
      },
      "execution_count": null,
      "outputs": []
    },
    {
      "cell_type": "markdown",
      "source": [
        "## 옵티마이저 및 손실함수 정의"
      ],
      "metadata": {
        "id": "-rB8KCrVttp8"
      }
    },
    {
      "cell_type": "code",
      "source": [
        "model = CNN().to(device)\n",
        "optimizer = optim.Adam(model.parameters(), lr=learning_rate)\n",
        "criterion = nn.CrossEntropyLoss() # 다중 클래스 분류 -> 교차엔트로피"
      ],
      "metadata": {
        "id": "MiutPKIKtv8t"
      },
      "execution_count": null,
      "outputs": []
    },
    {
      "cell_type": "markdown",
      "source": [
        "## 설계한 모형 확인하기"
      ],
      "metadata": {
        "id": "I44W-tGat-b9"
      }
    },
    {
      "cell_type": "code",
      "source": [
        "print(model)"
      ],
      "metadata": {
        "colab": {
          "base_uri": "https://localhost:8080/"
        },
        "id": "cVnB6VpwuAsg",
        "outputId": "cc381220-1c1a-409c-9c9a-4fef37ef899d"
      },
      "execution_count": null,
      "outputs": [
        {
          "output_type": "stream",
          "name": "stdout",
          "text": [
            "CNN(\n",
            "  (conv1): Conv2d(1, 32, kernel_size=(3, 3), stride=(1, 1))\n",
            "  (conv2): Conv2d(32, 64, kernel_size=(3, 3), stride=(1, 1))\n",
            "  (dropout1): Dropout(p=0.25, inplace=False)\n",
            "  (dropout2): Dropout2d(p=0.5, inplace=False)\n",
            "  (fc1): Linear(in_features=9216, out_features=128, bias=True)\n",
            "  (fc2): Linear(in_features=128, out_features=10, bias=True)\n",
            ")\n"
          ]
        }
      ]
    },
    {
      "cell_type": "markdown",
      "source": [
        "## 모델 학습"
      ],
      "metadata": {
        "id": "2goNSag1uDgK"
      }
    },
    {
      "cell_type": "code",
      "source": [
        "model.train() # 학습 모드로 실행 (이것만 실행한다고 훈련되는 건 아님)\n",
        "i = 0\n",
        "\n",
        "for epoch in range(epoch_num):\n",
        "  for data, target in train_loader:\n",
        "    data = data.to(device)\n",
        "    target = target.to(device)\n",
        "    optimizer.zero_grad() # 이전 반복시행에서 저장된 optimizer의 gradient 초기화\n",
        "    output = model(data) # 순전파\n",
        "    loss = criterion(output, target) # 손실함수 계산\n",
        "    loss.backward() # 역전파 -> gradient 계산\n",
        "    optimizer.step() # 가중치 없데이트\n",
        "    if i % 1000 == 0:\n",
        "      print(f\"Train Step: {i}\\tLoss: {loss.item():.3f}\")\n",
        "    i += 1"
      ],
      "metadata": {
        "colab": {
          "base_uri": "https://localhost:8080/"
        },
        "id": "i8LugawpuDAT",
        "outputId": "eb17c0af-92dd-4b65-910f-eda39cca79c8"
      },
      "execution_count": null,
      "outputs": [
        {
          "output_type": "stream",
          "name": "stdout",
          "text": [
            "Train Step: 0\tLoss: 2.297\n",
            "Train Step: 1000\tLoss: 0.278\n",
            "Train Step: 2000\tLoss: 0.175\n",
            "Train Step: 3000\tLoss: 0.153\n",
            "Train Step: 4000\tLoss: 0.125\n",
            "Train Step: 5000\tLoss: 0.073\n",
            "Train Step: 6000\tLoss: 0.129\n",
            "Train Step: 7000\tLoss: 0.196\n",
            "Train Step: 8000\tLoss: 0.032\n",
            "Train Step: 9000\tLoss: 0.155\n",
            "Train Step: 10000\tLoss: 0.055\n",
            "Train Step: 11000\tLoss: 0.416\n",
            "Train Step: 12000\tLoss: 0.008\n",
            "Train Step: 13000\tLoss: 0.057\n",
            "Train Step: 14000\tLoss: 0.033\n",
            "Train Step: 15000\tLoss: 0.065\n",
            "Train Step: 16000\tLoss: 0.104\n",
            "Train Step: 17000\tLoss: 0.026\n"
          ]
        }
      ]
    },
    {
      "cell_type": "markdown",
      "source": [
        "# 모델 평가"
      ],
      "metadata": {
        "id": "AFgvP9C7uuI-"
      }
    },
    {
      "cell_type": "code",
      "source": [
        "model.eval() # 평가모드: dropout이 적용되지 않으며, batch normalization도 평가모드로 전환\n",
        "correct = 0\n",
        "\n",
        "for data, target in test_loader:\n",
        "  data = data.to(device)\n",
        "  target = target.to(device)\n",
        "  output = model(data)\n",
        "  prediction = output.max(axis=1)[1] # [0]에는 max 값이, [1]에는 index가 위치\n",
        "  correct += (prediction == target).sum() # 정답은 True, 오답은 False인 논리값의 벡터\n",
        "\n",
        "accuracy = 100 * (correct / len(test_loader.dataset))\n",
        "print(f\"Test set: Accuracy: {accuracy:.2f}%\")"
      ],
      "metadata": {
        "colab": {
          "base_uri": "https://localhost:8080/"
        },
        "id": "5VqmFb6huzmq",
        "outputId": "d6715d57-28ff-4e92-d451-d7d18e9ee37e"
      },
      "execution_count": null,
      "outputs": [
        {
          "output_type": "stream",
          "name": "stdout",
          "text": [
            "Test set: Accuracy: 98.96%\n"
          ]
        }
      ]
    },
    {
      "cell_type": "markdown",
      "source": [
        "# 정리\n",
        "\n",
        "**파이토치 프로그래밍의 절차**\n",
        "1. **Dataset**을 만들고 **DataLoader**에 불러와 미니배치를 구성한다. `torch.utils.data.DataLoader(...)`\n",
        "\n",
        "2. **모형**을 정의한다. `class 아무개(nn.Module):`\n",
        "\n",
        "3. **옵티마이저와 손실함수**를 정의한다. `torch.nn`, `torch.optim`\n",
        "\n",
        "4. 모델을 **학습**한다. (`optimizer.zero_grad()` -> output 및 loss 계산 -> `loss.backward()` -> `optimizer.step()`)\n",
        "\n",
        "5. 모델을 **평가**한다.\n",
        "\n",
        "+ 너가 GPU를 쓰고 싶다...? 그러면 **model, data, target** 3개에 `.to(device)` 등으로 처리를 해 줘야 한다."
      ],
      "metadata": {
        "id": "2j1T7PciwgPl"
      }
    }
  ]
}